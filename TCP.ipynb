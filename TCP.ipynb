{
 "cells": [
  {
   "cell_type": "markdown",
   "metadata": {},
   "source": [
    "Introduzione alle socket TCP"
   ]
  },
  {
   "cell_type": "markdown",
   "metadata": {},
   "source": [
    "Le socket TCP sono uno dei modi più diffusi per la comunicazione tra processi su una rete. Una socket è un oggetto software che rappresenta un endpoint di un canale di comunicazione bidirezionale tra due processi. In particolare, una socket TCP è\n",
    "una socket orientata alla connessione, cioè garantisce una connessione affidabile e stabile tra i due processi."
   ]
  },
  {
   "cell_type": "markdown",
   "metadata": {},
   "source": [
    "Per utilizzare le socket TCP in Python, è necessario importare la libreria socket. Le primitive più importanti della libreria socket per la gestione delle socket TCP sono:"
   ]
  },
  {
   "cell_type": "markdown",
   "metadata": {},
   "source": [
    "socket(): crea una nuova socket e restituisce il descrittore della socket appena creata. La funzione richiede due parametri di input: il tipo di indirizzo della socket (AF_INET per gli indirizzi IPv4) e il ipo di socket (SOCK_STREAM per le socket TCP).\n",
    "\n",
    "bind(): assegna un indirizzo IP e una porta alla socket. La funzione richiede un parametro di input, una tupla contenente l'indirizzo IP (in formato stringa) e la porta (in formato numerico) a cui associare la socket.\n",
    "\n",
    "listen(): mette la socket in ascolto per eventuali connessioni in ingresso. La funzione richiede un parametro di input, il numero massimo di connessioni in coda che la socket è in grado di gestire contemporaneamente.\n",
    "\n",
    "accept(): accetta una nuova connessione în ingresso. La funzione restituisce una nuova socket dedicata alla connessione accettata e l'indirizzo IP e la porta del client che ha stabilito la connessione. La funzione blocca il processo fino a quando non viene stabilita una nuova connessione.\n",
    "\n",
    "connecti(): avvia la connessione verso un server remoto specificato dall'indirizzo IP e dalla porta. La funzione richiede un parametro di input, una tupla contenente l'indirizzo IP (in formato stringa) e la porta (in formato numerico) del server.\n",
    "\n",
    "send(): invia dati sulla socket. La funzione richiede un parametro di input, una stringa contenente i dati da inviare, e restituisce il numero di byte effettivamente inviati. Per inviare tutti i dati può essere necessario invocare la send() più volte.\n",
    "\n",
    "sendall(): invia tutti dati sulla socket in una sola volta, e blocca il processo finché tutti i dati non sono stati inviati. In generale, è consigliabile utilizzare la sendall() invece di send() per garantire l'invio completo dei dati. Tuttavia, in alcuni casi specifici, come ad esempio l'invio di dati di grandi dimensioni, potrebbe essere necessario utilizzare la primitivab send per inviare i dati in blocchi più piccoli.\n",
    "\n",
    "recv(): riceve dati sulla socket. La funzione restituisce una stringa contenente i dati ricevuti. La funzione blocca il processo fino a quando non arrivano nuovi dati sulla socket.\n",
    "\n",
    "recvformi(): restituisce anche l'indirizzo IP e la porta del mittente dei dati ricevuti.\n",
    "\n",
    "close(): chiude la socket."
   ]
  },
  {
   "cell_type": "markdown",
   "metadata": {},
   "source": [
    "Queste sono alcune delle primitive disponibile nella librearia socket per la gestione delle socket TCP. Altre primitive includono setsockopt() per impostare opzioni sulla socket getsockopt() per recuperare le opzioni e molte altre."
   ]
  },
  {
   "cell_type": "markdown",
   "metadata": {},
   "source": [
    "Il costrutto with"
   ]
  },
  {
   "cell_type": "markdown",
   "metadata": {},
   "source": [
    "E' utilizzato per gestire il contesto di un progetto. In particolare, è utile quando si lavora con oggetti che necessitano di essere aperti e chiusi correttamente, come ad esempio file, socket, connessioni a database e così via.\n",
    "\n",
    "Il costrutto with ha la seguente sintassi:\n",
    "\n",
    "with <oggetto> as <nome_variabile>:\n",
    "    <blocco_di_codice>\n",
    "Uscendo da with lìoggetto viene chiuso automaticamente    "
   ]
  },
  {
   "cell_type": "code",
   "execution_count": null,
   "metadata": {
    "vscode": {
     "languageId": "plaintext"
    }
   },
   "outputs": [],
   "source": [
    "input_string = 'Hello'\n",
    "print(type(input_string))\n",
    "input_bytes_encoded = input_string.endcode()\n",
    "print(type(input_string.endcode))\n",
    "print(input_string.endcode)\n",
    "output_string = input_bytes_endcode.decode()\n",
    "print(type(output_string))\n",
    "print(output_string)"
   ]
  },
  {
   "cell_type": "code",
   "execution_count": null,
   "metadata": {
    "vscode": {
     "languageId": "plaintext"
    }
   },
   "outputs": [],
   "source": [
    "#client\n",
    "\n",
    "import socket\n",
    "\n",
    "HOST= '127.0.0.1'\n",
    "PORT = 65432\n",
    "\n",
    "with socket.socket(socket.AF_INET, socket.SOCK_STREAM) as sock_service:\n",
    "    sock_service.connect((HOST, PORT))\n",
    "    sock_service.sendall(b'Hello, world')\n",
    "    data = sock_service.recv(1024)\n",
    "\n",
    "print('Received', data.decode()) "
   ]
  },
  {
   "cell_type": "code",
   "execution_count": null,
   "metadata": {
    "vscode": {
     "languageId": "plaintext"
    }
   },
   "outputs": [],
   "source": [
    "#server\n",
    "\n",
    "import socket\n",
    "\n",
    "IP = \"127.0.0.1\"\n",
    "PORTA = 65432\n",
    "DIM_BUFFER =1024\n",
    "\n",
    "with socket.socket(socket.AF_INET, socket.SOCK_STREAM) as sock_server:\n",
    "\n",
    "    sock_server.bind(IP, PORTA)\n",
    "\n",
    "    sock_server.listen()\n",
    "\n",
    "    print(f\"Server in ascolto su {IP}:{PORTA}...\")\n",
    "\n",
    "    while True:\n",
    "    sock_service, address_client = sock_server.accept()\n",
    "    with sock_service as sock_client:\n",
    "    \n",
    "    dati = sock_client.recv(DIM_BUFFER).decode()\n",
    "\n",
    "    print(f\"Ricevuto messaggio da client {sock_client}:{dati}\")\n",
    "    sock_client.sendall(\"Messaggio ricevuto dal server\" .encode())"
   ]
  }
 ],
 "metadata": {
  "language_info": {
   "name": "python"
  }
 },
 "nbformat": 4,
 "nbformat_minor": 2
}
